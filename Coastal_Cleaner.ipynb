{
  "nbformat": 4,
  "nbformat_minor": 0,
  "metadata": {
    "colab": {
      "name": "Coastal Cleaner.ipynb",
      "provenance": [],
      "collapsed_sections": [],
      "authorship_tag": "ABX9TyNSssU3rCmxW9RLo7c+G7Ik",
      "include_colab_link": true
    },
    "kernelspec": {
      "name": "python3",
      "display_name": "Python 3"
    },
    "language_info": {
      "name": "python"
    }
  },
  "cells": [
    {
      "cell_type": "markdown",
      "metadata": {
        "id": "view-in-github",
        "colab_type": "text"
      },
      "source": [
        "<a href=\"https://colab.research.google.com/github/m-soro/Coastal-Report-Cleaner-/blob/main/Coastal_Cleaner.ipynb\" target=\"_parent\"><img src=\"https://colab.research.google.com/assets/colab-badge.svg\" alt=\"Open In Colab\"/></a>"
      ]
    },
    {
      "cell_type": "code",
      "metadata": {
        "id": "csWult7DPeRX"
      },
      "source": [
        "import pandas as pd\n",
        "import glob\n",
        "import fileinput\n",
        "from google.colab import files\n",
        "\n",
        "file = glob.glob('*.xls')\n",
        "df = pd.read_excel(file[0])\n",
        "\n",
        "for n in range(len(cols)):\n",
        "    cols[n] = cols[n].strip().lower()\n",
        "\n",
        "df.columns = cols\n",
        "df = df[['vendor product reference','product description','purchase unit','product']]\n",
        "file_name = fileinput.filename()[:-4]\n",
        "df.to_csv(file_name + \".csv\", index = None,header=True)\n",
        "files.download(file_name + \".csv\")    "
      ],
      "execution_count": null,
      "outputs": []
    }
  ]
}